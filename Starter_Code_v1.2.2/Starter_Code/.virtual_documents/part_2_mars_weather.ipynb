


# Import relevant libraries
from splinter import Browser
from bs4 import BeautifulSoup as soup
import matplotlib.pyplot as plt
import pandas as pd


browser = Browser('chrome')





# Visit the website
# https://static.bc-edx.com/data/web/mars_facts/temperature.html
url = "https://static.bc-edx.com/data/web/mars_facts/temperature.html"
browser.visit(url)





# Create a Beautiful Soup Object
html = browser.html
mars_temp = soup(html, 'html.parser')



# Extract all rows of data
all_rows = mars_temp.find_all('tr', class_='data-row')
# for row in all_rows:
#     print(row.text)






# Create an empty list
data_row = []

# Loop through the scraped data to create a list of rows
for row in all_rows:
    row_data = row.text.split('\n')

    # Extracting relevant data from the row
    id_ = row_data[1]
    terrestrial_date = row_data[2]
    sol = row_data[3]
    ls = row_data[4]
    month = row_data[5]
    min_temp = row_data[6]
    pressure = row_data[7]

    data_row.append({
        'id': id_,
        'terrestrial_date': terrestrial_date,
        'sol': sol,
        'ls': ls,
        'month': month,
        'min_temp': min_temp,
        'pressure': pressure
    })




# Create a Pandas DataFrame by using the list of rows and a list of the column names
column_names = ['id', 'terrestrial_date', 'sol', 'ls', 'month', 'min_temp', 'pressure']
mars_df = pd.DataFrame(data_row, columns=column_names)



# Confirm DataFrame was created successfully
mars_df.head()






# Examine data type of each column
mars_df.dtypes



# Change data types for data analysis
mars_df['terrestrial_date'] = pd.to_datetime(mars_df['terrestrial_date'])
mars_df['sol'] = mars_df['sol'].astype('int64')
mars_df['ls'] = mars_df['ls'].astype('int64')
mars_df['month'] = mars_df['month'].astype('int64')
mars_df['min_temp'] = mars_df['min_temp'].astype(float)
mars_df['pressure'] = mars_df['pressure'].astype(float)



# Confirm type changes were successful by examining data types again
mars_df.dtypes






# 1. How many months are there on Mars?
num_months = mars_df['month'].value_counts().sort_index()
num_months



# 2. How many Martian days' worth of data are there?
martian_days = mars_df['terrestrial_date'].nunique()
martian_days



# 3. What is the average low temperature by month?
avg_low_temp = mars_df.groupby('month')['min_temp'].mean()
avg_low_temp



# Plot the average temperature by month
plt.bar(avg_low_temp.index, avg_low_temp.values, width=0.6)
plt.xlabel('Month')
plt.ylabel('Temperature in Celsius')
plt.xticks(range(1, 13))
plt.show()



# Identify the coldest and hottest months in Curiosity's location
avg_low_temp_sorted = avg_low_temp.sort_values()
# avg_low_temp_sorted

plt.bar(range(1, 13), avg_low_temp_sorted.values, width=0.6)
plt.xlabel('Month')
plt.ylabel('Temperature in Celsius')
plt.xticks(range(1, 13), avg_low_temp_sorted.index)  # Set x-axis ticks to represent months
plt.show()



# 4. Average pressure by Martian month
avg_pressure = mars_df.groupby('month')['pressure'].mean()
avg_pressure



# Plot the average pressure by month
avg_pressure_sorted = avg_pressure.sort_values()

plt.bar(range(1, 13), avg_pressure_sorted.values, width=0.6)
plt.xlabel('Month')
plt.ylabel('Atmospheric Pressure')
plt.xticks(range(1, 13), avg_pressure_sorted.index)  # Set x-axis ticks to represent months
plt.show()



# 5. How many terrestrial (earth) days are there in a Martian year?
plt.plot(mars_df['sol'], mars_df['min_temp'])
plt.xlabel('Number of terrestrial days')
plt.ylabel('Minimum temperature')
plt.xticks([0, 250, 500, 750, 1000, 1250, 1500, 1750])
plt.show()















# Write the data to a CSV
file_path = 'mars_temperaure_data.csv'
mars_df.to_csv(file_path, index=False)



browser.quit()



