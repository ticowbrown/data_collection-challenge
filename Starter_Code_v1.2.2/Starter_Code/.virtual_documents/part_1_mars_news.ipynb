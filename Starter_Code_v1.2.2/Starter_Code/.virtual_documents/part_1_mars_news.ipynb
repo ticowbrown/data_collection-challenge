


# Import Splinter and BeautifulSoup
from splinter import Browser
from bs4 import BeautifulSoup as soup


browser = Browser('chrome')





# Visit the Mars news site
url = 'https://static.bc-edx.com/data/web/mars_news/index.html'
browser.visit(url)





# Create a Beautiful Soup object
html = browser.html
mars_news_soup = soup(html, 'html.parser')


# Extract all the text elements
all_text_elements = mars_news_soup.find_all('div', class_='col-md-12')

# for all_text in all_text_elements:
#     print(all_text)





# Create an empty list to store the dictionaries
news_list = []


# Loop through the text elements
for all_text in all_text_elements:
    # Extract title and preview text from the current container
    title = all_text.find('div', class_='content_title')
    preview = all_text.find('div', class_='article_teaser_body')
    
    # Check if both title and preview are found
    if title and preview:
        # Strip and store the text
        title_text = title.text.strip()
        preview_text = preview.text.strip()
        
        # Create a dictionary for the current article
        news_dict = {'title': title_text, 'preview': preview_text}
        
        # Add the dictionary to the list
        news_list.append(news_dict)




# Print the list to confirm success
for news_item in news_list:
    print(news_item)


browser.quit()



